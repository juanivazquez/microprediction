{
  "nbformat": 4,
  "nbformat_minor": 0,
  "metadata": {
    "colab": {
      "provenance": [],
      "collapsed_sections": [],
      "include_colab_link": true
    },
    "kernelspec": {
      "name": "python3",
      "display_name": "Python 3"
    },
    "language_info": {
      "name": "python"
    }
  },
  "cells": [
    {
      "cell_type": "markdown",
      "metadata": {
        "id": "view-in-github",
        "colab_type": "text"
      },
      "source": [
        "<a href=\"https://colab.research.google.com/github/microprediction/timeseries-notebooks/blob/main/forever_hello.ipynb\" target=\"_parent\"><img src=\"https://colab.research.google.com/assets/colab-badge.svg\" alt=\"Open In Colab\"/></a>"
      ]
    },
    {
      "cell_type": "code",
      "metadata": {
        "id": "VpVcKkLfnrwI"
      },
      "source": [
        "!pip install --upgrade git+https://github.com/microprediction/timemachines.git \n",
        "# ( pip install timemachines will probably suffice by the time you read this)"
      ],
      "execution_count": null,
      "outputs": []
    },
    {
      "cell_type": "markdown",
      "metadata": {
        "id": "3MEM-rv5pHSq"
      },
      "source": [
        "# Using a forever time-series prediction function \n",
        "A forever function is a weighted combination of top-performing univariate time-series prediction functions. The forever function uses recommendations based on continuously updated [Elo ratings](https://microprediction.github.io/timeseries-elo-ratings/html_leaderboards/univariate-k_003.html) so they will change from day to day. \n",
        "\n",
        "![](https://i.imgur.com/0WD8yka.png)\n",
        "\n",
        "Click through to those [leaderboards](https://microprediction.github.io/timeseries-elo-ratings/html_leaderboards/univariate-k_008.html)  to see the packages they draw functionality from, such as statsmodels, sktime, tbats, prophet, divinity, orbit, river, pydlm, neuralprophet and so forth. \n"
      ]
    },
    {
      "cell_type": "markdown",
      "metadata": {
        "id": "a7IuHdA8pozz"
      },
      "source": [
        "### Step 1. Load some packages\n",
        "A model won't be included in the mix if it cannot be loaded into your current environment. So we pile in some here. See the [installation instructions](https://github.com/microprediction/timemachines/blob/main/INSTALL.md) for more options. "
      ]
    },
    {
      "cell_type": "code",
      "source": [
        "!pip install --upgrade statsmodels\n",
        "!pip install --upgrade sktime\n",
        "!pip install --upgrade statsforecast\n",
        "!pip install --upgrade orbit-ml\n",
        "!pip install --upgrade river\n",
        "!pip install --upgrade git+https://github.com/oseiskar/simdkalman\n",
        "!pip install --upgrade pydlm\n",
        "!pip install --upgrade divinity\n",
        "!pip install --upgrade pmdarima"
      ],
      "metadata": {
        "id": "PxdEekjn2ZSg"
      },
      "execution_count": null,
      "outputs": []
    },
    {
      "cell_type": "code",
      "source": [
        "from timemachines.skaters.sk.skinclusion import using_sktime\n",
        "using_sktime  # Just checking"
      ],
      "metadata": {
        "colab": {
          "base_uri": "https://localhost:8080/"
        },
        "id": "vPmJGsHn5HXf",
        "outputId": "5d629935-9920-40b1-a383-78ad374ad816"
      },
      "execution_count": 1,
      "outputs": [
        {
          "output_type": "execute_result",
          "data": {
            "text/plain": [
              "True"
            ]
          },
          "metadata": {},
          "execution_count": 1
        }
      ]
    },
    {
      "cell_type": "markdown",
      "metadata": {
        "id": "VdzE5jX_ptmm"
      },
      "source": [
        "## Use the forever function \n",
        "The idea is that it should be \"okay\" (but a bit slow and cpu intensive, sorry) at predicting any given time series that is sufficiently long. Consider pre-contatenation of similar timeseries if it is too short, to allow the ensembler to warm up. \n",
        "\n",
        "Read [skaters](https://microprediction.github.io/timemachines/skaters.html) to understand the usage. \n",
        "\n"
      ]
    },
    {
      "cell_type": "code",
      "metadata": {
        "colab": {
          "base_uri": "https://localhost:8080/"
        },
        "id": "IxjklqTar3vs",
        "outputId": "17c88925-5a0f-456f-8806-36309b0b9a6d"
      },
      "source": [
        "import numpy as np \n",
        "from timemachines.skatertools.data.real import hospital\n",
        "ys = hospital(n=200)\n",
        "s = {}\n",
        "for y in ys:\n",
        "   x, x_std, s = f(y=y,s=s,k=1)\n",
        "\n",
        "print({'ys_tail':ys[-5:],'last_prediction':x})\n"
      ],
      "execution_count": 6,
      "outputs": [
        {
          "output_type": "stream",
          "name": "stdout",
          "text": [
            "{'ys_tail': [53.0, 53.0, 60.0, 60.0, 50.0], 'last_prediction': [55.319733911472426]}\n"
          ]
        }
      ]
    }
  ]
}