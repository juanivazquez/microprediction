{
  "nbformat": 4,
  "nbformat_minor": 0,
  "metadata": {
    "colab": {
      "provenance": [],
      "authorship_tag": "ABX9TyMi6wdHV1ohBr8hsQcGVJtj",
      "include_colab_link": true
    },
    "kernelspec": {
      "name": "python3",
      "display_name": "Python 3"
    },
    "language_info": {
      "name": "python"
    }
  },
  "cells": [
    {
      "cell_type": "markdown",
      "metadata": {
        "id": "view-in-github",
        "colab_type": "text"
      },
      "source": [
        "<a href=\"https://colab.research.google.com/github/microprediction/timeseries-notebooks/blob/main/examples/notebooks/wiggling.ipynb\" target=\"_parent\"><img src=\"https://colab.research.google.com/assets/colab-badge.svg\" alt=\"Open In Colab\"/></a>"
      ]
    },
    {
      "cell_type": "code",
      "execution_count": null,
      "metadata": {
        "id": "R0XRgcX_7Lpq"
      },
      "outputs": [],
      "source": [
        "!pip install pmdarima\n",
        "!pip install sktime\n",
        "!pip install statsforecast\n",
        "!pip install --upgrade git+https://github.com/microprediction/timemachines.git"
      ]
    },
    {
      "cell_type": "markdown",
      "source": [
        "# How to wiggle a timeseries model\n",
        "Just a little demo related to [Smooth Move - Does Wiggling Make Time-Series Models Less Acurate?](https://medium.com/p/8544e675873). "
      ],
      "metadata": {
        "id": "S49hRy3P7W6p"
      }
    },
    {
      "cell_type": "markdown",
      "source": [
        "### Step 1: Choose a skater, and a wiggled version of the same\n",
        "A \"skater\" is a one-line forecasting function. Yeah, I know some of you prefer twenty lines of ceremony but anyway..."
      ],
      "metadata": {
        "id": "k27zBSRk75Pw"
      }
    },
    {
      "cell_type": "code",
      "source": [
        "from timemachines.skaters.sk.skautoarima import sk_autoarima as f\n",
        "from timemachines.skaters.sk.skautoarimawiggly import sk_autoarima_wiggly_huber_d05_m3 as g"
      ],
      "metadata": {
        "id": "oRE4vsWB74U4"
      },
      "execution_count": 4,
      "outputs": []
    },
    {
      "cell_type": "markdown",
      "source": [
        "### Step 2: Let's see if it helps make things more regular"
      ],
      "metadata": {
        "id": "jnZSyXP18Xfg"
      }
    },
    {
      "cell_type": "code",
      "source": [
        "from timemachines.skatertools.data.ornstein import simulate_arima_like_path\n",
        "from timemachines.skatertools.sensitivity.skatersensitivity import skater_bump\n",
        "\n",
        "\n",
        "def skater_bump_plot(f, g, ndx, k):\n",
        "    \"\"\" Plot sensitivity to k'th to last observation,\n",
        "        and compare to an alternative skater g that might be smoother\n",
        "    \"\"\"\n",
        "    import numpy as np\n",
        "    ys = simulate_arima_like_path(seq_len=50)\n",
        "    y_final, x_final = skater_bump(ys=ys, f=f, ndx=ndx, k=k)\n",
        "    discont_max = np.max(np.diff(np.array(x_final)))\n",
        "    discont_median = np.median(np.abs(np.diff(np.array(x_final))))\n",
        "    if discont_max>5*discont_median:\n",
        "        print('Comparing ...')\n",
        "        y_alt, x_alt = skater_bump(ys=ys, f=g, ndx=ndx, k=k)\n",
        "        import matplotlib.pyplot as plt\n",
        "        plt.plot(y_final,x_final, 'rx')\n",
        "        plt.plot(y_alt, x_alt, 'go')\n",
        "        plt.ylabel('Prediction '+str(k)+' steps ahead')\n",
        "        kstub = g.__name__.split('_')[-1]\n",
        "        plt.xlabel('Value taken by y['+str(ndx)+'] w/ wiggle '+kstub)\n",
        "        plt.grid()\n",
        "        plt.title(f.__name__)\n",
        "        plt.legend(['original','wiggled'])\n",
        "        plt.show()\n",
        "        import time\n",
        "\n",
        "skater_bump_plot(f=f, g=g, ndx=-5, k=1)"
      ],
      "metadata": {
        "colab": {
          "base_uri": "https://localhost:8080/",
          "height": 636
        },
        "id": "ktg4xxH57rNF",
        "outputId": "3c3da9b2-b21c-4df0-ed72-cad575235e04"
      },
      "execution_count": 5,
      "outputs": [
        {
          "metadata": {
            "tags": null
          },
          "name": "stderr",
          "output_type": "stream",
          "text": [
            "/usr/local/lib/python3.7/dist-packages/statsmodels/tsa/statespace/sarimax.py:966: UserWarning: Non-stationary starting autoregressive parameters found. Using zeros as starting parameters.\n",
            "  warn('Non-stationary starting autoregressive parameters'\n",
            "/usr/local/lib/python3.7/dist-packages/statsmodels/base/model.py:606: ConvergenceWarning: Maximum Likelihood optimization failed to converge. Check mle_retvals\n",
            "  ConvergenceWarning)\n"
          ]
        },
        {
          "metadata": {
            "tags": null
          },
          "name": "stdout",
          "output_type": "stream",
          "text": [
            "{'ar': 16,\n",
            " 'ar_true': 16,\n",
            " 'exog': 0,\n",
            " 'exog_variance': 0,\n",
            " 'ma': 2,\n",
            " 'ma_true': 2,\n",
            " 'measurement_variance': 0,\n",
            " 'reduced_ar': 16,\n",
            " 'reduced_ma': 2,\n",
            " 'seasonal_ar': 0,\n",
            " 'seasonal_ma': 0,\n",
            " 'trend': 1,\n",
            " 'variance': 1}\n",
            "Comparing ...\n"
          ]
        },
        {
          "output_type": "display_data",
          "data": {
            "text/plain": [
              "<Figure size 432x288 with 1 Axes>"
            ],
            "image/png": "[encoded data removed]"
          },
          "metadata": {
            "needs_background": "light"
          }
        }
      ]
    },
    {
      "cell_type": "markdown",
      "source": [
        "## Step 3: Buy this [book](https://mitpress.mit.edu/9780262047326/microprediction/)\n",
        "I hear it is fantastic. "
      ],
      "metadata": {
        "id": "uksV99uQ8s9R"
      }
    }
  ]
}