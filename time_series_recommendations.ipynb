{
  "nbformat": 4,
  "nbformat_minor": 0,
  "metadata": {
    "colab": {
      "name": "time-series-recommendations.ipynb",
      "provenance": [],
      "include_colab_link": true
    },
    "kernelspec": {
      "name": "python3",
      "display_name": "Python 3"
    },
    "language_info": {
      "name": "python"
    }
  },
  "cells": [
    {
      "cell_type": "markdown",
      "metadata": {
        "id": "view-in-github",
        "colab_type": "text"
      },
      "source": [
        "<a href=\"https://colab.research.google.com/github/microprediction/timeseries-notebooks/blob/main/time_series_recommendations.ipynb\" target=\"_parent\"><img src=\"https://colab.research.google.com/assets/colab-badge.svg\" alt=\"Open In Colab\"/></a>"
      ]
    },
    {
      "cell_type": "code",
      "metadata": {
        "id": "VpVcKkLfnrwI"
      },
      "source": [
        "!pip install --upgrade timemachines\n",
        "!pip install --upgrade statsmodels"
      ],
      "execution_count": null,
      "outputs": []
    },
    {
      "cell_type": "markdown",
      "metadata": {
        "id": "3MEM-rv5pHSq"
      },
      "source": [
        "# Time-series package recommender \n",
        "This notebook shows you how to get recommendations for timeseries methods, depending on how far ahead you want to be forecasting and how much computation you wish to spend. These recommendations are based on continuously updated [Elo ratings](https://microprediction.github.io/timeseries-elo-ratings/html_leaderboards/univariate-k_003.html) so will change from day to day. \n",
        "\n",
        "![](https://i.imgur.com/0WD8yka.png)\n",
        "\n",
        "Click through to those [leaderboards](https://microprediction.github.io/timeseries-elo-ratings/html_leaderboards/univariate-k_008.html)  to see the packages they draw functionality from, such as statsmodels, sktime, tbats, prophet, divinity, orbit, river, pydlm, neuralprophet and so forth. \n"
      ]
    },
    {
      "cell_type": "markdown",
      "metadata": {
        "id": "a7IuHdA8pozz"
      },
      "source": [
        "### Suggest 12 models that might be okay at 5-step ahead prediction"
      ]
    },
    {
      "cell_type": "code",
      "metadata": {
        "colab": {
          "base_uri": "https://localhost:8080/"
        },
        "id": "aYu_3FW7n2xV",
        "outputId": "98adb53a-abab-492c-f411-8c53511ae310"
      },
      "source": [
        "from timemachines.skatertools.recommendations.suggestions import top_rated_names\n",
        "top_rated_names(k=5,n=12)"
      ],
      "execution_count": 2,
      "outputs": [
        {
          "output_type": "execute_result",
          "data": {
            "text/plain": [
              "['quick_aggressive_ema_ensemble',\n",
              " 'slow_precision_ema_ensemble',\n",
              " 'quickly_moving_average',\n",
              " 'quick_balanced_ema_ensemble',\n",
              " 'elo_fastest_univariate_aggressive_ensemble',\n",
              " 'slowly_moving_average',\n",
              " 'elo_faster_residual_aggressive_ensemble',\n",
              " 'elo_fastest_residual_precision_ensemble',\n",
              " 'elo_fastest_univariate_balanced_ensemble',\n",
              " 'darts_fft',\n",
              " 'elo_faster_residual_precision_ensemble',\n",
              " 'tsa_balanced_theta_ensemble']"
            ]
          },
          "metadata": {},
          "execution_count": 2
        }
      ]
    },
    {
      "cell_type": "markdown",
      "metadata": {
        "id": "VdzE5jX_ptmm"
      },
      "source": [
        "## Suggest **fast** models that might be okay at 3-step ahead prediction \n"
      ]
    },
    {
      "cell_type": "code",
      "metadata": {
        "colab": {
          "base_uri": "https://localhost:8080/"
        },
        "id": "-AP7ZPK5py6N",
        "outputId": "c34da400-f68a-463b-d0fe-98d9b630ef84"
      },
      "source": [
        "top_rated_names(k=5,max_seconds=0.1)"
      ],
      "execution_count": 3,
      "outputs": [
        {
          "output_type": "execute_result",
          "data": {
            "text/plain": [
              "['quickly_moving_average',\n",
              " 'slowly_moving_average',\n",
              " 'thinking_fast_and_fast',\n",
              " 'thinking_slow_and_fast',\n",
              " 'balanced_ema_ensemble']"
            ]
          },
          "metadata": {},
          "execution_count": 3
        }
      ]
    },
    {
      "cell_type": "markdown",
      "metadata": {
        "id": "IqTIsYK8qWqF"
      },
      "source": [
        "## Suggest models that might be good at predicting residuals\n",
        "\n",
        "\n",
        "\n"
      ]
    },
    {
      "cell_type": "code",
      "metadata": {
        "colab": {
          "base_uri": "https://localhost:8080/"
        },
        "id": "5qF2jiMfqxdP",
        "outputId": "d9af3e61-a309-4116-f83f-947206e22bda"
      },
      "source": [
        "top_rated_names(k=7,category='residual',n=10)"
      ],
      "execution_count": 4,
      "outputs": [
        {
          "output_type": "execute_result",
          "data": {
            "text/plain": [
              "['elo_faster_residual_precision_ensemble',\n",
              " 'sluggish_moving_average',\n",
              " 'elo_fastest_residual_balanced_ensemble',\n",
              " 'elo_fastest_univariate_balanced_ensemble',\n",
              " 'elo_fastest_univariate_precision_ensemble',\n",
              " 'thinking_slow_and_fast',\n",
              " 'thinking_slow_and_slow',\n",
              " 'slow_aggressive_ema_ensemble',\n",
              " 'slowly_moving_average',\n",
              " 'elo_fastest_univariate_aggressive_ensemble']"
            ]
          },
          "metadata": {},
          "execution_count": 4
        }
      ]
    },
    {
      "cell_type": "markdown",
      "metadata": {
        "id": "QCMn0ZLuq-d1"
      },
      "source": [
        "## Instantiate and use a model"
      ]
    },
    {
      "cell_type": "markdown",
      "metadata": {
        "id": "PZEzpke6rBZF"
      },
      "source": [
        "If the models you wish to use require statsmodels or timemachines only, you are good to go. "
      ]
    },
    {
      "cell_type": "code",
      "metadata": {
        "colab": {
          "base_uri": "https://localhost:8080/"
        },
        "id": "mWnoCxW7yY94",
        "outputId": "496cc60b-2512-4b14-8730-57408c50573b"
      },
      "source": [
        "from timemachines.skaters.localskaters import local_skater_from_name\n",
        "f = local_skater_from_name('thinking_fast_and_slow')\n",
        "f"
      ],
      "execution_count": 5,
      "outputs": [
        {
          "output_type": "execute_result",
          "data": {
            "text/plain": [
              "<function timemachines.skaters.simple.thinking.thinking_fast_and_slow(y: Union[float, List[float]], s: dict, k: int = 1, a: Union[float, List[float]] = None, t: Union[float, int] = None, e: Union[float, int] = None) -> ([<class 'float'>], typing.Any, typing.Any)>"
            ]
          },
          "metadata": {},
          "execution_count": 5
        }
      ]
    },
    {
      "cell_type": "markdown",
      "metadata": {
        "id": "dgKiFhRuydcK"
      },
      "source": [
        "But otherwise you need to install the third party library. There's a utility to tell you where the package is. "
      ]
    },
    {
      "cell_type": "code",
      "metadata": {
        "colab": {
          "base_uri": "https://localhost:8080/",
          "height": 35
        },
        "id": "kWGxc56qwQ5c",
        "outputId": "03d70313-12d4-44f3-9738-3ccbc5c33a3c"
      },
      "source": [
        "from timemachines.skatertools.utilities.locations import pypi_from_name\n",
        "pypi_from_name('sk_time')"
      ],
      "execution_count": 6,
      "outputs": [
        {
          "output_type": "execute_result",
          "data": {
            "text/plain": [
              "'https://pypi.org/project/sktime'"
            ],
            "application/vnd.google.colaboratory.intrinsic+json": {
              "type": "string"
            }
          },
          "metadata": {},
          "execution_count": 6
        }
      ]
    },
    {
      "cell_type": "markdown",
      "metadata": {
        "id": "5sHYKj96wfQU"
      },
      "source": [
        "You might need to read the author's instructions, but I'm feeling lucky..."
      ]
    },
    {
      "cell_type": "code",
      "metadata": {
        "id": "-XB1vCsnrGCC",
        "outputId": "234c81b1-8371-4a32-8ab1-f8de70dd6185",
        "colab": {
          "base_uri": "https://localhost:8080/"
        }
      },
      "source": [
        "!pip install --upgrade sktime"
      ],
      "execution_count": 7,
      "outputs": [
        {
          "output_type": "stream",
          "name": "stdout",
          "text": [
            "Installing collected packages: deprecated, sktime\n",
            "Successfully installed deprecated-1.2.13 sktime-0.16.1\n"
          ]
        }
      ]
    },
    {
      "cell_type": "markdown",
      "metadata": {
        "id": "S_DFErK_t-iM"
      },
      "source": [
        "One can check that timemachines is good to go:"
      ]
    },
    {
      "cell_type": "code",
      "metadata": {
        "colab": {
          "base_uri": "https://localhost:8080/"
        },
        "id": "0-A_YG4xslsO",
        "outputId": "fade2cdb-a3bc-4efe-b77b-937a822921ee"
      },
      "source": [
        "from timemachines.skaters.sk.skinclusion import using_sktime\n",
        "using_sktime"
      ],
      "execution_count": 8,
      "outputs": [
        {
          "output_type": "execute_result",
          "data": {
            "text/plain": [
              "False"
            ]
          },
          "metadata": {},
          "execution_count": 8
        }
      ]
    },
    {
      "cell_type": "markdown",
      "metadata": {
        "id": "td9armI9uDpY"
      },
      "source": [
        "You should also notice that the list of all local skaters now includes sktime skaters. "
      ]
    },
    {
      "cell_type": "code",
      "metadata": {
        "colab": {
          "base_uri": "https://localhost:8080/"
        },
        "id": "g_JMeHjPsbKM",
        "outputId": "80f6b23b-a222-4bb8-87fe-a97f6fdb2907"
      },
      "source": [
        "from timemachines.skaters.localskaters import LOCAL_SKATERS\n",
        "LOCAL_SKATERS[-3:]"
      ],
      "execution_count": 9,
      "outputs": [
        {
          "output_type": "execute_result",
          "data": {
            "text/plain": [
              "[<function timemachines.skaters.simple.hypocraticensemble.slow_aggressive_ema_ensemble(y: Union[float, List[float]], s: dict, k: int = 1, a: Union[float, List[float]] = None, t: Union[float, int] = None, e: Union[float, int] = None)>,\n",
              " <function timemachines.skaters.simple.hypocraticensemble.quick_precision_ema_ensemble(y: Union[float, List[float]], s: dict, k: int = 1, a: Union[float, List[float]] = None, t: Union[float, int] = None, e: Union[float, int] = None)>,\n",
              " <function timemachines.skaters.simple.hypocraticensemble.slow_precision_ema_ensemble(y: Union[float, List[float]], s: dict, k: int = 1, a: Union[float, List[float]] = None, t: Union[float, int] = None, e: Union[float, int] = None)>]"
            ]
          },
          "metadata": {},
          "execution_count": 9
        }
      ]
    },
    {
      "cell_type": "markdown",
      "metadata": {
        "id": "LiDyERowuL51"
      },
      "source": [
        "There's a utility for loading a skater from the name"
      ]
    },
    {
      "cell_type": "code",
      "metadata": {
        "id": "zCrcTJTBrOS5"
      },
      "source": [
        "from timemachines.skaters.localskaters import local_skater_from_name\n",
        "f = local_skater_from_name('sk_theta')\n",
        "f"
      ],
      "execution_count": 10,
      "outputs": []
    },
    {
      "cell_type": "markdown",
      "metadata": {
        "id": "WaJ7I7uRwyNv"
      },
      "source": [
        "... or you can find it manually by perusing [timemachines/skaters](https://github.com/microprediction/timemachines/tree/main/timemachines/skaters)\n"
      ]
    },
    {
      "cell_type": "code",
      "metadata": {
        "colab": {
          "base_uri": "https://localhost:8080/",
          "height": 347
        },
        "id": "TRjTVerMw863",
        "outputId": "1c708273-49b5-4cfa-e5a0-24f7e8bac580"
      },
      "source": [
        "from timemachines.skaters.sk.sktheta import sk_theta as g"
      ],
      "execution_count": 12,
      "outputs": [
        {
          "output_type": "error",
          "ename": "ImportError",
          "evalue": "ignored",
          "traceback": [
            "\u001b[0;31m---------------------------------------------------------------------------\u001b[0m",
            "\u001b[0;31mImportError\u001b[0m                               Traceback (most recent call last)",
            "\u001b[0;32m<ipython-input-12-ec93eb2a6144>\u001b[0m in \u001b[0;36m<module>\u001b[0;34m\u001b[0m\n\u001b[0;32m----> 1\u001b[0;31m \u001b[0;32mfrom\u001b[0m \u001b[0mtimemachines\u001b[0m\u001b[0;34m.\u001b[0m\u001b[0mskaters\u001b[0m\u001b[0;34m.\u001b[0m\u001b[0msk\u001b[0m\u001b[0;34m.\u001b[0m\u001b[0msktheta\u001b[0m \u001b[0;32mimport\u001b[0m \u001b[0msk_theta\u001b[0m \u001b[0;32mas\u001b[0m \u001b[0mg\u001b[0m\u001b[0;34m\u001b[0m\u001b[0;34m\u001b[0m\u001b[0m\n\u001b[0m\u001b[1;32m      2\u001b[0m \u001b[0mg\u001b[0m\u001b[0;34m\u001b[0m\u001b[0;34m\u001b[0m\u001b[0m\n",
            "\u001b[0;31mImportError\u001b[0m: cannot import name 'sk_theta' from 'timemachines.skaters.sk.sktheta' (/usr/local/lib/python3.8/dist-packages/timemachines/skaters/sk/sktheta.py)",
            "",
            "\u001b[0;31m---------------------------------------------------------------------------\u001b[0;32m\nNOTE: If your import is failing due to a missing package, you can\nmanually install dependencies using either !pip or !apt.\n\nTo view examples of installing some common dependencies, click the\n\"Open Examples\" button below.\n\u001b[0;31m---------------------------------------------------------------------------\u001b[0m\n"
          ],
          "errorDetails": {
            "actions": [
              {
                "action": "open_url",
                "actionText": "Open Examples",
                "url": "/notebooks/snippets/importing_libraries.ipynb"
              }
            ]
          }
        }
      ]
    },
    {
      "cell_type": "markdown",
      "metadata": {
        "id": "i2ls8iwkrpdu"
      },
      "source": [
        "Either way, you can use it to forecast 3 steps (say), repeatedly, as as explained in the [README.md](https://github.com/microprediction/timemachines). Note the use of state *s*"
      ]
    },
    {
      "cell_type": "code",
      "metadata": {
        "colab": {
          "base_uri": "https://localhost:8080/"
        },
        "id": "IxjklqTar3vs",
        "outputId": "cce94316-e103-40ce-8db7-ac94abfd2542"
      },
      "source": [
        "import numpy as np \n",
        "ys = np.random.randn(500)\n",
        "s = {}\n",
        "for y in ys[:150]:\n",
        "   x, x_std, s = f(y=y,s=s,k=3,e=-1) #<-- warming up\n",
        "for y in ys[150:155]:\n",
        "   x, x_std, s = f(y=y,s=s,k=3,e=10)\n",
        "print(x)"
      ],
      "execution_count": null,
      "outputs": [
        {
          "output_type": "stream",
          "name": "stdout",
          "text": [
            "[-0.05548757630988713, -0.055819636473717786, -0.05615169663754845]\n"
          ]
        }
      ]
    }
  ]
}