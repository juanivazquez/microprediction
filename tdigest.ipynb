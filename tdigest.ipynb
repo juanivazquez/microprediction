{
  "nbformat": 4,
  "nbformat_minor": 0,
  "metadata": {
    "colab": {
      "provenance": [],
      "authorship_tag": "ABX9TyPACkG0SjTlxUY5EZRNNC/J",
      "include_colab_link": true
    },
    "kernelspec": {
      "name": "python3",
      "display_name": "Python 3"
    },
    "language_info": {
      "name": "python"
    }
  },
  "cells": [
    {
      "cell_type": "markdown",
      "metadata": {
        "id": "view-in-github",
        "colab_type": "text"
      },
      "source": [
        "<a href=\"https://colab.research.google.com/github/microprediction/timeseries-notebooks/blob/main/tdigest.ipynb\" target=\"_parent\"><img src=\"https://colab.research.google.com/assets/colab-badge.svg\" alt=\"Open In Colab\"/></a>"
      ]
    },
    {
      "cell_type": "code",
      "execution_count": null,
      "metadata": {
        "id": "ZfIwcM8FVikW"
      },
      "outputs": [],
      "source": [
        "!pip install tdigest"
      ]
    },
    {
      "cell_type": "code",
      "source": [
        "USE_HACK = True\n",
        "\n",
        "from tdigest import TDigest\n",
        "import numpy as np \n",
        "data = [1,2,3,4,5,6]*5000\n",
        "if USE_HACK:\n",
        "  data = [ d+np.random.randn()*0.000001 for d in data]\n",
        "t = TDigest()\n",
        "t.batch_update(data)\n",
        "t.percentile(1/6)\n",
        "t.cdf(1.2)"
      ],
      "metadata": {
        "colab": {
          "base_uri": "https://localhost:8080/"
        },
        "id": "bzKNiXmHWdXZ",
        "outputId": "974ba28c-dc66-4e39-e699-d53ad70fe8fa"
      },
      "execution_count": 91,
      "outputs": [
        {
          "output_type": "execute_result",
          "data": {
            "text/plain": [
              "0.16629666468785598"
            ]
          },
          "metadata": {},
          "execution_count": 91
        }
      ]
    },
    {
      "cell_type": "code",
      "source": [
        "import numpy as np \n",
        "\n",
        "def perc_plot(t):\n",
        "  xs = np.linspace(0.5,99.5,100)\n",
        "  print(xs)\n",
        "  ys = [ t.percentile(x) for x in xs ]\n",
        "  print(ys)\n",
        "  import matplotlib.pyplot as plt\n",
        "  plt.plot(xs,ys,'g+')\n",
        "\n",
        "def cdf_plot(t):\n",
        "  xs = np.linspace(0,7,100)\n",
        "  ys = [ t.cdf(x) for x in xs ]\n",
        "  print(list(zip(xs,ys)))\n",
        "  import matplotlib.pyplot as plt\n",
        "  plt.plot(xs,ys,'g+')"
      ],
      "metadata": {
        "id": "Cw2FG96ycKQl"
      },
      "execution_count": 92,
      "outputs": []
    },
    {
      "cell_type": "code",
      "source": [
        "cdf_plot(t)"
      ],
      "metadata": {
        "colab": {
          "base_uri": "https://localhost:8080/",
          "height": 303
        },
        "id": "mG0GGvzfdPGo",
        "outputId": "31e4f855-8a64-42b4-d6dd-e5403043be3f"
      },
      "execution_count": 93,
      "outputs": [
        {
          "output_type": "stream",
          "name": "stdout",
          "text": [
            "[(0.0, 0.0), (0.0707070707070707, 0.0), (0.1414141414141414, 0.0), (0.2121212121212121, 0.0), (0.2828282828282828, 0.0), (0.35353535353535354, 0.0), (0.4242424242424242, 0.0), (0.4949494949494949, 0.0), (0.5656565656565656, 0.0), (0.6363636363636364, 0.0), (0.7070707070707071, 0.0), (0.7777777777777778, 0.0), (0.8484848484848484, 0.0), (0.9191919191919191, 0.0), (0.9898989898989898, 0.0), (1.0606060606060606, 0.16612474458591173), (1.1313131313131313, 0.16621195043472403), (1.202020202020202, 0.16629915628353634), (1.2727272727272727, 0.16638636213234861), (1.3434343434343434, 0.16647356798116092), (1.4141414141414141, 0.16656077382997322), (1.4848484848484849, 0.16664797967878553), (1.5555555555555556, 0.16666666666666666), (1.6262626262626263, 0.16666666666666666), (1.6969696969696968, 0.16666666666666666), (1.7676767676767675, 0.16666666666666666), (1.8383838383838382, 0.16666666666666666), (1.909090909090909, 0.16666666666666666), (1.9797979797979797, 0.16666666666666666), (2.0505050505050506, 0.3325841710570777), (2.121212121212121, 0.33270201676564687), (2.191919191919192, 0.3328198624742161), (2.2626262626262625, 0.33293770818278523), (2.333333333333333, 0.33305555389135444), (2.404040404040404, 0.33317339959992365), (2.4747474747474745, 0.3332912453084928), (2.5454545454545454, 0.3333333333333333), (2.616161616161616, 0.3333333333333333), (2.686868686868687, 0.3333333333333333), (2.7575757575757573, 0.3333333333333333), (2.8282828282828283, 0.3333333333333333), (2.898989898989899, 0.3333333333333333), (2.9696969696969697, 0.3333333333333333), (3.04040404040404, 0.4964917360360087), (3.111111111111111, 0.4970314690381338), (3.1818181818181817, 0.49757120204025884), (3.2525252525252526, 0.4981109350423839), (3.323232323232323, 0.49865066804450897), (3.3939393939393936, 0.49919040104663404), (3.4646464646464645, 0.4997301340487591), (3.535353535353535, 0.5), (3.606060606060606, 0.5), (3.6767676767676765, 0.5), (3.7474747474747474, 0.5), (3.818181818181818, 0.5), (3.888888888888889, 0.5), (3.9595959595959593, 0.5), (4.03030303030303, 0.6655237315469522), (4.101010101010101, 0.6656957862918967), (4.171717171717171, 0.6658678410368412), (4.242424242424242, 0.6660398957817856), (4.313131313131313, 0.66621195052673), (4.383838383838384, 0.6663840052716744), (4.454545454545454, 0.6665560600166189), (4.525252525252525, 0.6666666666666666), (4.595959595959596, 0.6666666666666666), (4.666666666666666, 0.6666666666666666), (4.737373737373737, 0.6666666666666666), (4.808080808080808, 0.6666666666666666), (4.878787878787879, 0.6666666666666666), (4.949494949494949, 0.6666666666666666), (5.02020202020202, 0.8323577388462239), (5.090909090909091, 0.8325015105943574), (5.161616161616162, 0.832645282342491), (5.232323232323232, 0.8327890540906246), (5.303030303030303, 0.8329328258387583), (5.373737373737374, 0.8330765975868919), (5.444444444444445, 0.8332203693350254), (5.515151515151515, 0.8333333333333334), (5.585858585858586, 0.8333333333333334), (5.656565656565657, 0.8333333333333334), (5.727272727272727, 0.8333333333333334), (5.797979797979798, 0.8333333333333334), (5.8686868686868685, 0.8333333333333334), (5.9393939393939394, 0.8333333333333334), (6.0101010101010095, 1), (6.08080808080808, 1), (6.151515151515151, 1), (6.222222222222222, 1), (6.292929292929292, 1), (6.363636363636363, 1), (6.434343434343434, 1), (6.505050505050505, 1), (6.575757575757575, 1), (6.646464646464646, 1), (6.717171717171717, 1), (6.787878787878787, 1), (6.858585858585858, 1), (6.929292929292929, 1), (7.0, 1)]\n"
          ]
        },
        {
          "output_type": "display_data",
          "data": {
            "text/plain": [
              "<Figure size 432x288 with 1 Axes>"
            ],
            "image/png": "[encoded data removed]"
          },
          "metadata": {
            "needs_background": "light"
          }
        }
      ]
    }
  ]
}