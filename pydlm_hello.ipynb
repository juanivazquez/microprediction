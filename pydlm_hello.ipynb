{
  "nbformat": 4,
  "nbformat_minor": 0,
  "metadata": {
    "colab": {
      "name": "pydlm_hello.ipynb",
      "provenance": [],
      "authorship_tag": "ABX9TyNPUWu268p7c3OoWw6Jn1MG",
      "include_colab_link": true
    },
    "kernelspec": {
      "name": "python3",
      "display_name": "Python 3"
    }
  },
  "cells": [
    {
      "cell_type": "markdown",
      "metadata": {
        "id": "view-in-github",
        "colab_type": "text"
      },
      "source": [
        "<a href=\"https://colab.research.google.com/github/microprediction/timeseries-notebooks/blob/main/pydlm_hello.ipynb\" target=\"_parent\"><img src=\"https://colab.research.google.com/assets/colab-badge.svg\" alt=\"Open In Colab\"/></a>"
      ]
    },
    {
      "cell_type": "code",
      "metadata": {
        "id": "pxPf4jy3Omj_"
      },
      "source": [
        "!pip install pydlm"
      ],
      "execution_count": null,
      "outputs": []
    },
    {
      "cell_type": "code",
      "metadata": {
        "id": "-KgmO47lOr3S"
      },
      "source": [
        "!pip install microprediction"
      ],
      "execution_count": null,
      "outputs": []
    },
    {
      "cell_type": "markdown",
      "metadata": {
        "id": "p2bh6KxE88So"
      },
      "source": [
        "# Hello world example\n",
        "See https://www.microprediction.com/blog/popular-timeseries-packages for more packages"
      ]
    },
    {
      "cell_type": "code",
      "metadata": {
        "id": "DUhhIeHhOutZ"
      },
      "source": [
        "from microprediction import MicroReader\n",
        "mr = MicroReader()\n",
        "YS = mr.get_lagged_values(name='beetahs_spy_xlb.json')[:500][::-1]"
      ],
      "execution_count": 17,
      "outputs": []
    },
    {
      "cell_type": "code",
      "metadata": {
        "id": "ODDpGjVDPDwS",
        "colab": {
          "base_uri": "https://localhost:8080/"
        },
        "outputId": "cb1557cd-1525-4251-f140-d27ae41d124e"
      },
      "source": [
        "from pydlm import dlm, trend, seasonality\n",
        "def run(ys:[float])->[float]:\n",
        "     \"\"\" Compute list of priors for observations ys \"\"\"\n",
        "     model = dlm([],printInfo=False) + trend(1) + seasonality(24)\n",
        "     xs = [0] # First guess doesn't matter\n",
        "     for t,y in enumerate(ys[:-1]):\n",
        "        model.append([y])\n",
        "        model.fitForwardFilter()\n",
        "        x_mean,x_var = model.predict()\n",
        "        xs.append(x_mean[0,0])\n",
        "     return xs\n",
        "XS = run(YS)\n",
        "len(XS)\n"
      ],
      "execution_count": 18,
      "outputs": [
        {
          "output_type": "execute_result",
          "data": {
            "text/plain": [
              "355"
            ]
          },
          "metadata": {},
          "execution_count": 18
        }
      ]
    },
    {
      "cell_type": "code",
      "metadata": {
        "colab": {
          "base_uri": "https://localhost:8080/",
          "height": 283
        },
        "id": "UsQalSXqS6a4",
        "outputId": "d78f2a15-0628-434e-fd33-07ec6367bb70"
      },
      "source": [
        "import matplotlib.pyplot as plt\n",
        "plt.plot(YS[275:385],'*b')\n",
        "plt.plot(XS[275:385],'g')\n",
        "plt.legend(['data','prior'])"
      ],
      "execution_count": 19,
      "outputs": [
        {
          "output_type": "execute_result",
          "data": {
            "text/plain": [
              "<matplotlib.legend.Legend at 0x7f544793ce50>"
            ]
          },
          "metadata": {},
          "execution_count": 19
        },
        {
          "output_type": "display_data",
          "data": {
            "text/plain": [
              "<Figure size 432x288 with 1 Axes>"
            ],
            "image/png": "[encoded data removed]"
          },
          "metadata": {
            "needs_background": "light"
          }
        }
      ]
    }
  ]
}