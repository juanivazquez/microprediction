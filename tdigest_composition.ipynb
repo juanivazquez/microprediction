{
  "nbformat": 4,
  "nbformat_minor": 0,
  "metadata": {
    "colab": {
      "provenance": [],
      "authorship_tag": "ABX9TyNOE//S2gGUapjc1eWvKT1d",
      "include_colab_link": true
    },
    "kernelspec": {
      "name": "python3",
      "display_name": "Python 3"
    },
    "language_info": {
      "name": "python"
    }
  },
  "cells": [
    {
      "cell_type": "markdown",
      "metadata": {
        "id": "view-in-github",
        "colab_type": "text"
      },
      "source": [
        "<a href=\"https://colab.research.google.com/github/microprediction/timeseries-notebooks/blob/main/tdigest_composition.ipynb\" target=\"_parent\"><img src=\"https://colab.research.google.com/assets/colab-badge.svg\" alt=\"Open In Colab\"/></a>"
      ]
    },
    {
      "cell_type": "code",
      "execution_count": 11,
      "metadata": {
        "id": "ZfIwcM8FVikW",
        "colab": {
          "base_uri": "https://localhost:8080/"
        },
        "outputId": "f3f481cf-cb98-4bb8-d344-379023b91331"
      },
      "outputs": [
        {
          "output_type": "stream",
          "name": "stdout",
          "text": [
            "Looking in indexes: https://pypi.org/simple, https://us-python.pkg.dev/colab-wheels/public/simple/\n",
            "Requirement already satisfied: tdigest in /usr/local/lib/python3.7/dist-packages (0.5.2.2)\n",
            "Requirement already satisfied: accumulation-tree in /usr/local/lib/python3.7/dist-packages (from tdigest) (0.6.2)\n",
            "Requirement already satisfied: pyudorandom in /usr/local/lib/python3.7/dist-packages (from tdigest) (1.0.0)\n"
          ]
        }
      ],
      "source": [
        "!pip install tdigest"
      ]
    },
    {
      "cell_type": "code",
      "source": [
        "!pip install scipy"
      ],
      "metadata": {
        "colab": {
          "base_uri": "https://localhost:8080/"
        },
        "id": "j-hU6k_Rxdsi",
        "outputId": "e92be463-c259-4e05-8732-461a62841a3f"
      },
      "execution_count": 10,
      "outputs": [
        {
          "output_type": "stream",
          "name": "stdout",
          "text": [
            "Looking in indexes: https://pypi.org/simple, https://us-python.pkg.dev/colab-wheels/public/simple/\n",
            "Requirement already satisfied: scipy in /usr/local/lib/python3.7/dist-packages (1.7.3)\n",
            "Requirement already satisfied: numpy<1.23.0,>=1.16.5 in /usr/local/lib/python3.7/dist-packages (from scipy) (1.21.6)\n"
          ]
        }
      ]
    },
    {
      "cell_type": "code",
      "source": [
        "import sys\n",
        "sys.version"
      ],
      "metadata": {
        "colab": {
          "base_uri": "https://localhost:8080/",
          "height": 35
        },
        "id": "6wmBK-Q9x7QH",
        "outputId": "c4a3b21a-9c54-4e47-d52b-a9b516c55790"
      },
      "execution_count": 12,
      "outputs": [
        {
          "output_type": "execute_result",
          "data": {
            "text/plain": [
              "'3.7.14 (default, Sep  8 2022, 00:06:44) \\n[GCC 7.5.0]'"
            ],
            "application/vnd.google.colaboratory.intrinsic+json": {
              "type": "string"
            }
          },
          "metadata": {},
          "execution_count": 12
        }
      ]
    },
    {
      "cell_type": "code",
      "source": [
        "USE_HACK = True\n",
        "\n",
        "from tdigest import TDigest\n",
        "import numpy as np \n",
        "data = [1,2,3,4,5,6]*5000\n",
        "if USE_HACK:\n",
        "  data = [ d+np.random.randn()*0.00000001 for d in data]\n",
        "t = TDigest()\n",
        "t.batch_update(data)\n",
        "t.percentile(1/6)\n",
        "t.cdf(1.2)"
      ],
      "metadata": {
        "colab": {
          "base_uri": "https://localhost:8080/"
        },
        "id": "bzKNiXmHWdXZ",
        "outputId": "3135ec1c-5a17-4846-ae42-fac9612bb8f2"
      },
      "execution_count": 1,
      "outputs": [
        {
          "output_type": "execute_result",
          "data": {
            "text/plain": [
              "0.16607666663540696"
            ]
          },
          "metadata": {},
          "execution_count": 1
        }
      ]
    },
    {
      "cell_type": "code",
      "source": [
        "import numpy as np \n",
        "\n",
        "def perc_plot(t):\n",
        "  xs = np.linspace(0.5,99.5,100)\n",
        "  print(xs)\n",
        "  ys = [ t.percentile(x) for x in xs ]\n",
        "  print(ys)\n",
        "  import matplotlib.pyplot as plt\n",
        "  plt.plot(xs,ys,'g+')\n",
        "\n",
        "def cdf_plot(t):\n",
        "  xs = np.linspace(0,7,100)\n",
        "  ys = [ t.cdf(x) for x in xs ]\n",
        "  print(list(zip(xs,ys)))\n",
        "  import matplotlib.pyplot as plt\n",
        "  plt.plot(xs,ys,'g+')"
      ],
      "metadata": {
        "id": "Cw2FG96ycKQl"
      },
      "execution_count": 13,
      "outputs": []
    },
    {
      "cell_type": "code",
      "source": [
        "import scipy\n",
        "from scipy.stats import norm\n",
        "\n",
        "\n",
        "def transform(t, x, tol=1e-16):\n",
        "    p = t.cdf(x)\n",
        "    if p<tol:\n",
        "       p = tol\n",
        "    if p>1-tol:\n",
        "       p = 1-tol\n",
        "    y = norm.ppf(p)\n",
        "    if np.isnan(y):\n",
        "      print({'x':x,'p':p,'y':y})\n",
        "    return y\n",
        "\n"
      ],
      "metadata": {
        "id": "mG0GGvzfdPGo"
      },
      "execution_count": 51,
      "outputs": []
    },
    {
      "cell_type": "code",
      "source": [],
      "metadata": {
        "id": "utemoIQa1nyl"
      },
      "execution_count": null,
      "outputs": []
    },
    {
      "cell_type": "code",
      "source": [
        "from tdigest import TDigest\n",
        "import numpy as np \n",
        "s = TDigest()\n",
        "xs = np.linspace(1/50000,1-1/50000,50000)\n",
        "s.batch_update( [ norm.ppf(x) for x in xs ] )\n",
        "\n",
        "def stransform(x):\n",
        "   return transform(s,x)\n",
        "\n",
        "s"
      ],
      "metadata": {
        "colab": {
          "base_uri": "https://localhost:8080/"
        },
        "id": "1sagb88dpziF",
        "outputId": "1090844a-d4aa-414f-f23b-fb893e0d4282"
      },
      "execution_count": 60,
      "outputs": [
        {
          "output_type": "execute_result",
          "data": {
            "text/plain": [
              "<T-Digest: n=50000, centroids=681>"
            ]
          },
          "metadata": {},
          "execution_count": 60
        }
      ]
    },
    {
      "cell_type": "code",
      "source": [
        "def plot_transform(f):\n",
        "  xs = np.linspace(-10,10,500)\n",
        "  ys = [ f(x) for x in xs]\n",
        "  ds = [ x-y for x,y in zip(xs,ys)]\n",
        "\n",
        "  print(list(zip(xs[200:-200],ds[200:-200])))\n",
        " \n",
        "  import matplotlib.pyplot as plt\n",
        "  plt.plot(xs[200:-200],ds[200:-200])\n",
        "  plt.grid()\n",
        "\n",
        "plot_transform(stransform)"
      ],
      "metadata": {
        "colab": {
          "base_uri": "https://localhost:8080/",
          "height": 303
        },
        "id": "T8DTj6b0wAKP",
        "outputId": "37e6996b-a04d-44a6-c415-f1181eba2fef"
      },
      "execution_count": 66,
      "outputs": [
        {
          "output_type": "stream",
          "name": "stdout",
          "text": [
            "[(-1.9839679358717444, -0.0016172067873345686), (-1.9438877755511026, 0.00023305045751742526), (-1.9038076152304608, -0.00023788657860501772), (-1.8637274549098208, 0.0003236383330755821), (-1.823647294589179, 0.00028525731007666977), (-1.7835671342685373, -0.00038769854905162937), (-1.7434869739478955, -0.00015127231591582913), (-1.7034068136272555, -0.00041978591113411845), (-1.6633266533066138, 0.00041322139807253855), (-1.623246492985972, 4.492101716380148e-05), (-1.5831663326653302, 0.00019014601924460806), (-1.5430861723446903, -0.0005015078874124335), (-1.5030060120240485, 4.91006075469258e-05), (-1.4629258517034067, 0.00023429814085274003), (-1.4228456913827667, 0.00023403370287877756), (-1.382765531062125, 0.0001932395289165889), (-1.3426853707414832, 0.00018539550430274332), (-1.3026052104208414, 0.0007750908930361788), (-1.2625250501002014, -0.00018393429583385412), (-1.2224448897795597, -0.00030575463317950025), (-1.182364729458918, -0.0008875500461615893), (-1.1422845691382761, 0.0005356537271095085), (-1.1022044088176361, 0.00011677713360191966), (-1.0621242484969944, -0.0002688234531886824), (-1.0220440881763526, 0.0009302060341656038), (-0.9819639278557126, -0.0004855984611207287), (-0.9418837675350709, 1.8157846671917888e-05), (-0.9018036072144291, 0.0007810805722734404), (-0.8617234468937873, 0.0005722522332156643), (-0.8216432865731473, 0.001610017292894006), (-0.7815631262525056, -0.00010697413970117697), (-0.7414829659318638, 0.0010565525310757273), (-0.701402805611222, -4.8969301569723456e-05), (-0.661322645290582, -0.00035719751019946955), (-0.6212424849699403, -0.00023517147596774368), (-0.5811623246492985, -0.00035456370392827896), (-0.5410821643286585, 0.0012350482906866578), (-0.5010020040080168, 0.00011354426411713803), (-0.460921843687375, -1.662600344726206e-05), (-0.4208416833667332, 0.0005056945568978066), (-0.38076152304609323, -0.00015002262577062941), (-0.34068136272545146, -0.0010966476814495696), (-0.3006012024048097, 0.0019443954387403095), (-0.26052104208416793, 0.00022414517886715224), (-0.22044088176352794, 0.0009499444328773254), (-0.18036072144288617, -0.0003796030999097255), (-0.1402805611222444, 0.00015538969578529627), (-0.10020040080160442, 0.00048035637530191577), (-0.06012024048096265, -0.00046294058899863655), (-0.020040080160320883, -0.0002718308542306973), (0.020040080160320883, 0.0004427763580964403), (0.060120240480960874, 0.0005017687519368597), (0.10020040080160264, -0.0007741827461267836), (0.1402805611222444, -0.0007124129959770187), (0.18036072144288617, 0.0006324260085632527), (0.22044088176352616, 0.0005969503701050705), (0.26052104208416793, 0.0012239234614730976), (0.3006012024048097, 0.0003653995479735994), (0.3406813627254497, 0.000670764798625767), (0.38076152304609145, 8.820302566103777e-07), (0.4208416833667332, 0.001263809129391058), (0.460921843687375, -0.00022472900048514655), (0.501002004008015, 0.001183189180413713), (0.5410821643286567, -5.692355502606716e-05), (0.5811623246492985, 0.0014466647339042016), (0.6212424849699403, -0.0011097725973043815), (0.6613226452905803, 8.678259829841828e-05), (0.701402805611222, 0.00013441922108925475), (0.7414829659318638, -5.291420679787162e-05), (0.7815631262525038, -0.00013018196388203673), (0.8216432865731456, 0.00012263784636157293), (0.8617234468937873, -0.0003004802626703773), (0.9018036072144291, -0.0003802128333528776), (0.9418837675350691, 0.00017519066581206388), (0.9819639278557108, -9.436637720550145e-05), (1.0220440881763526, -0.0005519519803800499), (1.0621242484969944, -0.0014847991032596042), (1.1022044088176344, -0.00024193618168055764), (1.1422845691382761, 0.00014838962815266754), (1.182364729458918, -7.343485181499076e-05), (1.222444889779558, -0.001149598261194873), (1.2625250501001997, 0.00015342472610546665), (1.3026052104208414, 0.0005904643028087353), (1.3426853707414832, -0.000609409867751598), (1.3827655310621232, -0.0003119704956042746), (1.422845691382765, 0.0001328477080160262), (1.4629258517034067, -8.149254700540176e-05), (1.5030060120240485, -8.557929204688897e-05), (1.5430861723446885, -0.0011595547672316187), (1.5831663326653302, -0.0015067199019220823), (1.623246492985972, 0.000558124512312741), (1.663326653306612, -0.0003960202445041361), (1.7034068136272538, -0.00011346630055486528), (1.7434869739478955, -0.0005789638777811135), (1.7835671342685373, -0.0005835456438476605), (1.8236472945891773, -1.7065516606962206e-05), (1.863727454909819, -0.0006723692106898049), (1.9038076152304608, 0.00015659939699008696), (1.9438877755511026, -0.00012336789054145925), (1.9839679358717426, -0.00018684299788551684)]\n"
          ]
        },
        {
          "output_type": "display_data",
          "data": {
            "text/plain": [
              "<Figure size 432x288 with 1 Axes>"
            ],
            "image/png": "[encoded data removed]"
          },
          "metadata": {
            "needs_background": "light"
          }
        }
      ]
    },
    {
      "cell_type": "code",
      "source": [],
      "metadata": {
        "colab": {
          "base_uri": "https://localhost:8080/"
        },
        "id": "ha-M8Al2qH1T",
        "outputId": "a626b93c-fd36-4aec-e0ec-5033fc142f45"
      },
      "execution_count": null,
      "outputs": [
        {
          "output_type": "execute_result",
          "data": {
            "text/plain": [
              "<T-Digest: n=30000, centroids=705>"
            ]
          },
          "metadata": {},
          "execution_count": 114
        }
      ]
    }
  ]
}