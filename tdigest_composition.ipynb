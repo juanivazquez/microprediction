{
  "nbformat": 4,
  "nbformat_minor": 0,
  "metadata": {
    "colab": {
      "provenance": [],
      "authorship_tag": "ABX9TyORc+oWbFztoG0huqFfwgSF",
      "include_colab_link": true
    },
    "kernelspec": {
      "name": "python3",
      "display_name": "Python 3"
    },
    "language_info": {
      "name": "python"
    }
  },
  "cells": [
    {
      "cell_type": "markdown",
      "metadata": {
        "id": "view-in-github",
        "colab_type": "text"
      },
      "source": [
        "<a href=\"https://colab.research.google.com/github/microprediction/timeseries-notebooks/blob/main/tdigest_composition.ipynb\" target=\"_parent\"><img src=\"https://colab.research.google.com/assets/colab-badge.svg\" alt=\"Open In Colab\"/></a>"
      ]
    },
    {
      "cell_type": "code",
      "execution_count": 11,
      "metadata": {
        "id": "ZfIwcM8FVikW",
        "colab": {
          "base_uri": "https://localhost:8080/"
        },
        "outputId": "f3f481cf-cb98-4bb8-d344-379023b91331"
      },
      "outputs": [
        {
          "output_type": "stream",
          "name": "stdout",
          "text": [
            "Looking in indexes: https://pypi.org/simple, https://us-python.pkg.dev/colab-wheels/public/simple/\n",
            "Requirement already satisfied: tdigest in /usr/local/lib/python3.7/dist-packages (0.5.2.2)\n",
            "Requirement already satisfied: accumulation-tree in /usr/local/lib/python3.7/dist-packages (from tdigest) (0.6.2)\n",
            "Requirement already satisfied: pyudorandom in /usr/local/lib/python3.7/dist-packages (from tdigest) (1.0.0)\n"
          ]
        }
      ],
      "source": [
        "!pip install tdigest"
      ]
    },
    {
      "cell_type": "code",
      "source": [
        "!pip install scipy"
      ],
      "metadata": {
        "colab": {
          "base_uri": "https://localhost:8080/"
        },
        "id": "j-hU6k_Rxdsi",
        "outputId": "e92be463-c259-4e05-8732-461a62841a3f"
      },
      "execution_count": 10,
      "outputs": [
        {
          "output_type": "stream",
          "name": "stdout",
          "text": [
            "Looking in indexes: https://pypi.org/simple, https://us-python.pkg.dev/colab-wheels/public/simple/\n",
            "Requirement already satisfied: scipy in /usr/local/lib/python3.7/dist-packages (1.7.3)\n",
            "Requirement already satisfied: numpy<1.23.0,>=1.16.5 in /usr/local/lib/python3.7/dist-packages (from scipy) (1.21.6)\n"
          ]
        }
      ]
    },
    {
      "cell_type": "code",
      "source": [
        "import sys\n",
        "sys.version"
      ],
      "metadata": {
        "colab": {
          "base_uri": "https://localhost:8080/",
          "height": 35
        },
        "id": "6wmBK-Q9x7QH",
        "outputId": "c4a3b21a-9c54-4e47-d52b-a9b516c55790"
      },
      "execution_count": 12,
      "outputs": [
        {
          "output_type": "execute_result",
          "data": {
            "text/plain": [
              "'3.7.14 (default, Sep  8 2022, 00:06:44) \\n[GCC 7.5.0]'"
            ],
            "application/vnd.google.colaboratory.intrinsic+json": {
              "type": "string"
            }
          },
          "metadata": {},
          "execution_count": 12
        }
      ]
    },
    {
      "cell_type": "code",
      "source": [
        "USE_HACK = True\n",
        "\n",
        "from tdigest import TDigest\n",
        "import numpy as np \n",
        "data = [1,2,3,4,5,6]*5000\n",
        "if USE_HACK:\n",
        "  data = [ d+np.random.randn()*0.00000001 for d in data]\n",
        "t = TDigest()\n",
        "t.batch_update(data)\n",
        "t.percentile(1/6)\n",
        "t.cdf(1.2)"
      ],
      "metadata": {
        "colab": {
          "base_uri": "https://localhost:8080/"
        },
        "id": "bzKNiXmHWdXZ",
        "outputId": "95648bcd-3ea0-4276-d2b3-4123c6543a02"
      },
      "execution_count": 80,
      "outputs": [
        {
          "output_type": "execute_result",
          "data": {
            "text/plain": [
              "0.16549666661044118"
            ]
          },
          "metadata": {},
          "execution_count": 80
        }
      ]
    },
    {
      "cell_type": "code",
      "source": [
        "import numpy as np \n",
        "\n",
        "def perc_plot(t):\n",
        "  xs = np.linspace(0.5,99.5,100)\n",
        "  print(xs)\n",
        "  ys = [ t.percentile(x) for x in xs ]\n",
        "  print(ys)\n",
        "  import matplotlib.pyplot as plt\n",
        "  plt.plot(xs,ys,'g+')\n",
        "\n",
        "def cdf_plot(t):\n",
        "  xs = np.linspace(0,7,100)\n",
        "  ys = [ t.cdf(x) for x in xs ]\n",
        "  print(list(zip(xs,ys)))\n",
        "  import matplotlib.pyplot as plt\n",
        "  plt.plot(xs,ys,'g+')\n",
        "\n",
        "def pdf_plot(t, lb=0,ub=7):\n",
        "  xs = np.linspace(lb,ub,100)\n",
        "  ys = [ t.cdf(x) for x in xs ]\n",
        "  dys = np.diff(ys)\n",
        "  import matplotlib.pyplot as plt\n",
        "  plt.plot(xs[1:],dys,'g+')\n",
        "\n",
        "pdf_plot(t)"
      ],
      "metadata": {
        "id": "Cw2FG96ycKQl",
        "colab": {
          "base_uri": "https://localhost:8080/",
          "height": 269
        },
        "outputId": "920301d4-124a-4e39-c362-30c940174ee4"
      },
      "execution_count": 88,
      "outputs": [
        {
          "output_type": "display_data",
          "data": {
            "text/plain": [
              "<Figure size 432x288 with 1 Axes>"
            ],
            "image/png": "[encoded data removed]"
          },
          "metadata": {
            "needs_background": "light"
          }
        }
      ]
    },
    {
      "cell_type": "code",
      "source": [
        "import scipy\n",
        "from scipy.stats import norm\n",
        "\n",
        "\n",
        "def transform(t, x, tol=1e-16):\n",
        "    p = t.cdf(x)\n",
        "    if p<tol:\n",
        "       p = tol\n",
        "    if p>1-tol:\n",
        "       p = 1-tol\n",
        "    y = norm.ppf(p)\n",
        "    if np.isnan(y):\n",
        "      print({'x':x,'p':p,'y':y})\n",
        "    return y\n",
        "\n"
      ],
      "metadata": {
        "id": "mG0GGvzfdPGo"
      },
      "execution_count": 51,
      "outputs": []
    },
    {
      "cell_type": "code",
      "source": [
        "from tdigest import TDigest\n",
        "import numpy as np \n",
        "s = TDigest()\n",
        "xs = np.linspace(1/50000,1-1/50000,50000)\n",
        "s.batch_update( [ norm.ppf(x) for x in xs ] )\n",
        "\n",
        "def stransform(x):\n",
        "   return transform(s,x)\n",
        "\n",
        "pdf_plot(s,lb=-5,ub=5)"
      ],
      "metadata": {
        "colab": {
          "base_uri": "https://localhost:8080/",
          "height": 265
        },
        "id": "1sagb88dpziF",
        "outputId": "9189dc3e-3c7c-4118-99cc-9def424e4873"
      },
      "execution_count": 89,
      "outputs": [
        {
          "output_type": "display_data",
          "data": {
            "text/plain": [
              "<Figure size 432x288 with 1 Axes>"
            ],
            "image/png": "[encoded data removed]"
          },
          "metadata": {
            "needs_background": "light"
          }
        }
      ]
    },
    {
      "cell_type": "code",
      "source": [
        "def plot_transform_error(f):\n",
        "  xs = np.linspace(-10,10,500)\n",
        "  ys = [ f(x) for x in xs]\n",
        "  ds = [ x-y for x,y in zip(xs,ys)]\n",
        "\n",
        "  print(list(zip(xs[200:-200],ds[200:-200])))\n",
        " \n",
        "  import matplotlib.pyplot as plt\n",
        "  plt.plot(xs[200:-200],ds[200:-200])\n",
        "  plt.grid()\n",
        "\n",
        "plot_transform_error(stransform)"
      ],
      "metadata": {
        "colab": {
          "base_uri": "https://localhost:8080/",
          "height": 303
        },
        "id": "T8DTj6b0wAKP",
        "outputId": "21a6f632-a308-4e50-ad71-aee6379135f4"
      },
      "execution_count": 91,
      "outputs": [
        {
          "output_type": "stream",
          "name": "stdout",
          "text": [
            "[(-1.9839679358717444, 0.0004397826123256898), (-1.9438877755511026, -9.914095883978291e-05), (-1.9038076152304608, 0.00018662647091716167), (-1.8637274549098208, 0.0001587291182132411), (-1.823647294589179, -0.00035892936344006365), (-1.7835671342685373, 0.0002899212083962155), (-1.7434869739478955, 0.0002660825426454849), (-1.7034068136272555, 0.0008352250156651309), (-1.6633266533066138, -0.0006663455871172008), (-1.623246492985972, 0.0008208287770521405), (-1.5831663326653302, 0.0007282215413777493), (-1.5430861723446903, 6.189709581549963e-05), (-1.5030060120240485, 5.311792355078282e-05), (-1.4629258517034067, -1.9561444414728513e-05), (-1.4228456913827667, -0.00010681584101068786), (-1.382765531062125, 0.0010448106279001834), (-1.3426853707414832, 0.00021662195639016169), (-1.3026052104208414, 0.0014279682973810104), (-1.2625250501002014, 0.0005736510206777456), (-1.2224448897795597, 0.0004913262483317027), (-1.182364729458918, 6.352387510988322e-05), (-1.1422845691382761, 4.167995989856621e-05), (-1.1022044088176361, 0.0011937644435362493), (-1.0621242484969944, -0.0007980819019071106), (-1.0220440881763526, -0.00019756865307263283), (-0.9819639278557126, 0.0010852913966595823), (-0.9418837675350709, 0.00042765678809442154), (-0.9018036072144291, 0.0003045729226460736), (-0.8617234468937873, 0.00019845716118627177), (-0.8216432865731473, 0.0009572802152308935), (-0.7815631262525056, 1.134280762116191e-05), (-0.7414829659318638, 5.582395154335451e-05), (-0.701402805611222, 0.00025917542188291787), (-0.661322645290582, 0.00018772298711366986), (-0.6212424849699403, 0.00046146881735376066), (-0.5811623246492985, 0.00048297190770452136), (-0.5410821643286585, 0.00038928163399643), (-0.5010020040080168, -0.0007068288390205124), (-0.460921843687375, 0.0006545227645552987), (-0.4208416833667332, 0.0002743500985018521), (-0.38076152304609323, 0.0003417403344161962), (-0.34068136272545146, 0.0002721655717012328), (-0.3006012024048097, 0.0014172325584015377), (-0.26052104208416793, 0.0006649427039288613), (-0.22044088176352794, 0.0003086686940423633), (-0.18036072144288617, 0.0001716575894517569), (-0.1402805611222444, 0.0009637691549952698), (-0.10020040080160442, 0.00016819997711690904), (-0.06012024048096265, 0.0002102308675111103), (-0.020040080160320883, -0.0005718932990886501), (0.020040080160320883, 0.0005070621722813654), (0.060120240480960874, -0.0008308345906545556), (0.10020040080160264, -0.00023570139296326398), (0.1402805611222444, -0.00046458474862134946), (0.18036072144288617, 0.0016923569952210504), (0.22044088176352616, -0.0009218233094022976), (0.26052104208416793, 0.0004395985598618646), (0.3006012024048097, 0.001706011003697383), (0.3406813627254497, 0.0010947562826231216), (0.38076152304609145, 0.0008857043497653705), (0.4208416833667332, 0.0010463320126538611), (0.460921843687375, 0.0002215425932062809), (0.501002004008015, 0.000941587695811319), (0.5410821643286567, -0.00017141895115391215), (0.5811623246492985, -0.00048512180526227855), (0.6212424849699403, 0.0011499843200272197), (0.6613226452905803, 9.963639897359045e-06), (0.701402805611222, -0.0009116898778296356), (0.7414829659318638, 0.00015790055032627315), (0.7815631262525038, -0.0007902246656200651), (0.8216432865731456, -0.00020085911122980082), (0.8617234468937873, -0.0005843100752317421), (0.9018036072144291, 0.0012163973383078064), (0.9418837675350691, -9.908381887469009e-05), (0.9819639278557108, 0.00023013650426972898), (1.0220440881763526, 0.00046860870999676507), (1.0621242484969944, 0.0007557389726260411), (1.1022044088176344, 0.001319772739775349), (1.1422845691382761, -8.177303097234301e-05), (1.182364729458918, -0.0002474759250894465), (1.222444889779558, -9.090854926085967e-05), (1.2625250501001997, -2.4462501984068297e-05), (1.3026052104208414, -0.0005020499766261732), (1.3426853707414832, 0.0004764882728824915), (1.3827655310621232, -0.0012059677244637967), (1.422845691382765, 0.0007835441604855387), (1.4629258517034067, -0.00015046655625239325), (1.5030060120240485, -0.0013412721217678225), (1.5430861723446885, -0.00032382092232641213), (1.5831663326653302, 0.0005784254348650819), (1.623246492985972, 0.00014888245430144664), (1.663326653306612, 2.7629572326270946e-05), (1.7034068136272538, -3.443056000973499e-05), (1.7434869739478955, -4.9049517109711616e-05), (1.7835671342685373, 0.00037207514349768545), (1.8236472945891773, -0.00012656942227984302), (1.863727454909819, 8.663790995733223e-08), (1.9038076152304608, -0.00014477104237520244), (1.9438877755511026, 2.6433400846403998e-05), (1.9839679358717426, -0.0001835826756795278)]\n"
          ]
        },
        {
          "output_type": "display_data",
          "data": {
            "text/plain": [
              "<Figure size 432x288 with 1 Axes>"
            ],
            "image/png": "[encoded data removed]"
          },
          "metadata": {
            "needs_background": "light"
          }
        }
      ]
    },
    {
      "cell_type": "code",
      "source": [
        "import sys\n",
        "import json \n",
        "sys.getsizeof(s.to_dict())\n",
        "sys.getsizeof(json.dumps(s.to_dict()))"
      ],
      "metadata": {
        "colab": {
          "base_uri": "https://localhost:8080/"
        },
        "id": "ha-M8Al2qH1T",
        "outputId": "0fcdfc92-ccc2-40f7-ceef-a8ef198851c3"
      },
      "execution_count": 72,
      "outputs": [
        {
          "output_type": "execute_result",
          "data": {
            "text/plain": [
              "25977"
            ]
          },
          "metadata": {},
          "execution_count": 72
        }
      ]
    },
    {
      "cell_type": "code",
      "source": [
        "x = np.random.randn(700)\n",
        "sys.getsizeof(json.dumps(list(x)))"
      ],
      "metadata": {
        "colab": {
          "base_uri": "https://localhost:8080/"
        },
        "id": "yIYImSA86XHU",
        "outputId": "053168ab-5efe-4a8d-bec7-81471d468cc3"
      },
      "execution_count": 77,
      "outputs": [
        {
          "output_type": "execute_result",
          "data": {
            "text/plain": [
              "14491"
            ]
          },
          "metadata": {},
          "execution_count": 77
        }
      ]
    },
    {
      "cell_type": "markdown",
      "source": [
        "# Timing some things "
      ],
      "metadata": {
        "id": "NCTXqxxd_b9l"
      }
    },
    {
      "cell_type": "code",
      "source": [
        "import time \n",
        "from tdigest.tdigest import Centroid\n",
        "st = time.time()\n",
        "tjson = json.dumps(t.to_dict())\n",
        "\n",
        "\n",
        "def from_dict(d:dict):\n",
        "   t = TDigest()\n",
        "   for droid in tj['centroids']:\n",
        "       ci = Centroid(droid['m'],droid['c'])\n",
        "       q.C.insert(droid['m'], ci)\n",
        "   q.K = d['K']\n",
        "   q.delta = d['delta']\n",
        "   q.n = d['n']\n",
        "   return q \n",
        "\n",
        "tjson = json.dumps(t.to_dict())\n",
        "for _ in range(100):\n",
        "    tj = json.loads(tjson)\n",
        "    q = from_dict(tj)\n",
        "   \n",
        "    #g = json.loads(tjson)\n",
        "    if False:\n",
        "      q = TDigest()\n",
        "      q.update_from_dict(g)\n",
        "print(time.time()-st)\n",
        "q"
      ],
      "metadata": {
        "colab": {
          "base_uri": "https://localhost:8080/"
        },
        "id": "rm3DxsCB_INM",
        "outputId": "3eb0e279-146d-4c8e-d8c0-6e2aa48e404a"
      },
      "execution_count": 139,
      "outputs": [
        {
          "output_type": "stream",
          "name": "stdout",
          "text": [
            "0.3288402557373047\n"
          ]
        },
        {
          "output_type": "execute_result",
          "data": {
            "text/plain": [
              "<T-Digest: n=30000, centroids=712>"
            ]
          },
          "metadata": {},
          "execution_count": 139
        }
      ]
    },
    {
      "cell_type": "code",
      "source": [
        "for _ in range(100):\n",
        "    q = TDigest()\n",
        "    g = json.loads(tjson)\n",
        "    q.update_from_dict(g)\n",
        "print(time.time()-st)"
      ],
      "metadata": {
        "colab": {
          "base_uri": "https://localhost:8080/"
        },
        "id": "CpVCzxdgGwlg",
        "outputId": "024579f4-d753-4795-f038-b7439cd9eaa8"
      },
      "execution_count": 117,
      "outputs": [
        {
          "output_type": "stream",
          "name": "stdout",
          "text": [
            "58.68782925605774\n"
          ]
        }
      ]
    }
  ]
}