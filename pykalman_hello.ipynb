{
  "nbformat": 4,
  "nbformat_minor": 0,
  "metadata": {
    "colab": {
      "name": "pykalman_hello.ipynb",
      "provenance": [],
      "authorship_tag": "ABX9TyPVLbsRNCtRULAz8waeYUdN",
      "include_colab_link": true
    },
    "kernelspec": {
      "name": "python3",
      "display_name": "Python 3"
    }
  },
  "cells": [
    {
      "cell_type": "markdown",
      "metadata": {
        "id": "view-in-github",
        "colab_type": "text"
      },
      "source": [
        "<a href=\"https://colab.research.google.com/github/microprediction/timeseries-notebooks/blob/main/pykalman_hello.ipynb\" target=\"_parent\"><img src=\"https://colab.research.google.com/assets/colab-badge.svg\" alt=\"Open In Colab\"/></a>"
      ]
    },
    {
      "cell_type": "code",
      "metadata": {
        "id": "pxPf4jy3Omj_"
      },
      "source": [
        "!pip install pykalman"
      ],
      "execution_count": null,
      "outputs": []
    },
    {
      "cell_type": "code",
      "metadata": {
        "id": "-KgmO47lOr3S"
      },
      "source": [
        "!pip install microprediction"
      ],
      "execution_count": null,
      "outputs": []
    },
    {
      "cell_type": "markdown",
      "metadata": {
        "id": "p2bh6KxE88So"
      },
      "source": [
        "# Hello world example\n",
        "See https://www.microprediction.com/blog/popular-timeseries-packages for more packages"
      ]
    },
    {
      "cell_type": "code",
      "metadata": {
        "id": "DUhhIeHhOutZ",
        "colab": {
          "base_uri": "https://localhost:8080/"
        },
        "outputId": "ba190893-19c4-4f10-8a82-034214f76e1d"
      },
      "source": [
        "from microprediction import MicroReader\n",
        "mr = MicroReader()\n",
        "YS = mr.get_lagged_values(name='yarx_vlty_1_qcom.json')[:500][::-1]\n",
        "YS[:3]"
      ],
      "execution_count": 8,
      "outputs": [
        {
          "output_type": "execute_result",
          "data": {
            "text/plain": [
              "[-6.374964226610424, -2.4680065797791064, -2.4675645627653116]"
            ]
          },
          "metadata": {},
          "execution_count": 8
        }
      ]
    },
    {
      "cell_type": "code",
      "metadata": {
        "id": "ODDpGjVDPDwS",
        "colab": {
          "base_uri": "https://localhost:8080/"
        },
        "outputId": "a90c4de6-7edf-4e92-d87e-2dd899f8ac58"
      },
      "source": [
        "from pykalman import KalmanFilter\n",
        "\n",
        "def run(ys):\n",
        "  burnin = 100\n",
        "  kf = KalmanFilter(initial_state_mean=0, n_dim_obs=1)\n",
        "  ys_train = [ [y] for y in ys[:burnin] ]\n",
        "  kf = kf.em(ys_train)\n",
        "  ys_test = [ [y] for y in ys[burnin:]]\n",
        "  x_rest = kf.filter(ys_test)\n",
        "  x_rest_flat = [x[0] for x in x_rest[0]]\n",
        "  return [0] + ys[:burnin] + x_rest_flat\n",
        "XS = run(YS)\n",
        "len(XS)\n"
      ],
      "execution_count": 11,
      "outputs": [
        {
          "output_type": "execute_result",
          "data": {
            "text/plain": [
              "400"
            ]
          },
          "metadata": {},
          "execution_count": 11
        }
      ]
    },
    {
      "cell_type": "code",
      "metadata": {
        "id": "XmFAcUsWSA0I"
      },
      "source": [],
      "execution_count": null,
      "outputs": []
    },
    {
      "cell_type": "code",
      "metadata": {
        "colab": {
          "base_uri": "https://localhost:8080/",
          "height": 283
        },
        "id": "UsQalSXqS6a4",
        "outputId": "2b52bfce-ac19-4eab-8085-ba4fc44e9884"
      },
      "source": [
        "import matplotlib.pyplot as plt\n",
        "plt.plot(YS[225:250],'*b')\n",
        "plt.plot(XS[225:250],'g')\n",
        "plt.legend(['data','prior'])"
      ],
      "execution_count": 12,
      "outputs": [
        {
          "output_type": "execute_result",
          "data": {
            "text/plain": [
              "<matplotlib.legend.Legend at 0x7f66d1867490>"
            ]
          },
          "metadata": {},
          "execution_count": 12
        },
        {
          "output_type": "display_data",
          "data": {
            "text/plain": [
              "<Figure size 432x288 with 1 Axes>"
            ],
            "image/png": "[encoded data removed]"
          },
          "metadata": {
            "needs_background": "light"
          }
        }
      ]
    }
  ]
}