{
  "nbformat": 4,
  "nbformat_minor": 0,
  "metadata": {
    "colab": {
      "provenance": [],
      "name": "just_for_fun.ipynb",
      "authorship_tag": "ABX9TyPv0Al0Pm0Wa8ayfgbk4Dwx",
      "include_colab_link": true
    },
    "kernelspec": {
      "name": "python3",
      "display_name": "Python 3"
    },
    "language_info": {
      "name": "python"
    }
  },
  "cells": [
    {
      "cell_type": "markdown",
      "metadata": {
        "id": "view-in-github",
        "colab_type": "text"
      },
      "source": [
        "<a href=\"https://colab.research.google.com/github/microprediction/timeseries-notebooks/blob/main/just_for_fun.ipynb\" target=\"_parent\"><img src=\"https://colab.research.google.com/assets/colab-badge.svg\" alt=\"Open In Colab\"/></a>"
      ]
    },
    {
      "cell_type": "markdown",
      "source": [
        "Classifying\n"
      ],
      "metadata": {
        "id": "2ePwpj5-D-M5"
      }
    },
    {
      "cell_type": "code",
      "execution_count": null,
      "metadata": {
        "colab": {
          "base_uri": "https://localhost:8080/"
        },
        "id": "3IBVYkvUDtqJ",
        "outputId": "ed9c935c-4ecc-4e39-9b08-3c2ab7f5696a"
      },
      "outputs": [
        {
          "output_type": "stream",
          "name": "stdout",
          "text": [
            "Best fit model: Linear\n",
            "R2 scores: {'Linear': 1.0, 'Quadratic': 1.0, 'Logarithmic': 0.8025595986962138, 'Exponential': -1.7395862748559822e+53, 'Logistic': 0.9936772496689723}\n"
          ]
        }
      ],
      "source": [
        "import numpy as np\n",
        "import pandas as pd\n",
        "from sklearn.linear_model import LinearRegression\n",
        "from sklearn.preprocessing import PolynomialFeatures\n",
        "from sklearn.metrics import r2_score\n",
        "from scipy.optimize import curve_fit\n",
        "\n",
        "# Define different model functions\n",
        "def linear_model(x, a, b):\n",
        "    return a * x + b\n",
        "\n",
        "def quadratic_model(x, a, b, c):\n",
        "    return a * x**2 + b * x + c\n",
        "\n",
        "def logarithmic_model(x, a, b):\n",
        "    return a * np.log(x) + b\n",
        "\n",
        "def exponential_model(x, a, b):\n",
        "    return a * np.exp(b * x)\n",
        "\n",
        "def logistic_model(x, a, b, c):\n",
        "    return c / (1 + np.exp(-(x - b) / a))\n",
        "\n",
        "# Function to classify the time-series data\n",
        "def classify_time_series(x, y):\n",
        "    results = {}\n",
        "\n",
        "    # Linear fit\n",
        "    linear_reg = LinearRegression()\n",
        "    linear_reg.fit(x.reshape(-1, 1), y)\n",
        "    y_pred = linear_reg.predict(x.reshape(-1, 1))\n",
        "    results['Linear'] = r2_score(y, y_pred)\n",
        "\n",
        "    # Quadratic fit\n",
        "    poly = PolynomialFeatures(degree=2)\n",
        "    x_poly = poly.fit_transform(x.reshape(-1, 1))\n",
        "    poly_reg = LinearRegression()\n",
        "    poly_reg.fit(x_poly, y)\n",
        "    y_pred = poly_reg.predict(x_poly)\n",
        "    results['Quadratic'] = r2_score(y, y_pred)\n",
        "\n",
        "    # Logarithmic fit (avoid zero or negative x)\n",
        "    if np.all(x > 0):\n",
        "        try:\n",
        "            popt, _ = curve_fit(logarithmic_model, x, y)\n",
        "            y_pred = logarithmic_model(x, *popt)\n",
        "            results['Logarithmic'] = r2_score(y, y_pred)\n",
        "        except:\n",
        "            results['Logarithmic'] = -np.inf\n",
        "\n",
        "    # Exponential fit\n",
        "    try:\n",
        "        popt, _ = curve_fit(exponential_model, x, y)\n",
        "        y_pred = exponential_model(x, *popt)\n",
        "        results['Exponential'] = r2_score(y, y_pred)\n",
        "    except:\n",
        "        results['Exponential'] = -np.inf\n",
        "\n",
        "    # Logistic fit\n",
        "    try:\n",
        "        popt, _ = curve_fit(logistic_model, x, y, maxfev=10000)\n",
        "        y_pred = logistic_model(x, *popt)\n",
        "        results['Logistic'] = r2_score(y, y_pred)\n",
        "    except:\n",
        "        results['Logistic'] = -np.inf\n",
        "\n",
        "    # Classify based on the best R2 score\n",
        "    best_fit = max(results, key=results.get)\n",
        "    return best_fit, results\n",
        "\n",
        "# Example usage\n",
        "x = np.arange(1, 101)\n",
        "# Generate some example data for testing\n",
        "y = 3 * x + 10  # Linear example\n",
        "\n",
        "# Classify the time series\n",
        "best_fit, scores = classify_time_series(x, y)\n",
        "print(f'Best fit model: {best_fit}')\n",
        "print(f'R2 scores: {scores}')\n"
      ]
    },
    {
      "cell_type": "markdown",
      "source": [],
      "metadata": {
        "id": "30GcKTcJD9J7"
      }
    }
  ]
}